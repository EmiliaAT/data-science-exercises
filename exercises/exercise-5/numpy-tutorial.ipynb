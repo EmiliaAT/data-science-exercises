{
 "cells": [
  {
   "cell_type": "code",
   "execution_count": 17,
   "id": "2fbbe16e-1df3-4224-9bc6-21c5bf021d58",
   "metadata": {},
   "outputs": [
    {
     "name": "stdout",
     "output_type": "stream",
     "text": [
      "[[ 52  93  15  72]\n",
      " [ 61  21  83  87]\n",
      " [ 75  75  88 100]\n",
      " [ 24   3  22  53]]\n",
      "\n",
      "sum: 924\n",
      "min: 3\n",
      "max: 100\n",
      "[[ 0 93 15  0]\n",
      " [61 21 83 87]\n",
      " [75 75  0  0]\n",
      " [ 0  3  0 53]]\n",
      "row sum: [108 252 150  56]\n",
      "col sum: [136 192  98 140]\n",
      "[[ 0 61 75  0]\n",
      " [93 21 75  3]\n",
      " [15 83  0  0]\n",
      " [ 0 87  0 53]]\n"
     ]
    }
   ],
   "source": [
    "import numpy as np\n",
    "\n",
    "np.random.seed(42)\n",
    "\n",
    "matrix1 = np.random.randint(1, 101, size=(4, 4))\n",
    "print(matrix1)\n",
    "print()\n",
    "\n",
    "print(f'sum: {np.sum(matrix1)}')\n",
    "\n",
    "print(f'min: {np.min(matrix1)}')\n",
    "print(f'max: {np.max(matrix1)}')\n",
    "\n",
    "matrix2 = matrix1.copy()\n",
    "matrix2[matrix2 % 2 == 0] = 0\n",
    "\n",
    "print(matrix2)\n",
    "\n",
    "print(f'row sum: {matrix2.sum(axis=1)}')\n",
    "print(f'col sum: {matrix2.sum(axis=0)}')\n",
    "\n",
    "print(matrix2.transpose())"
   ]
  }
 ],
 "metadata": {
  "kernelspec": {
   "display_name": "anaconda-2024.02-py310",
   "language": "python",
   "name": "conda-env-anaconda-2024.02-py310-py"
  },
  "language_info": {
   "codemirror_mode": {
    "name": "ipython",
    "version": 3
   },
   "file_extension": ".py",
   "mimetype": "text/x-python",
   "name": "python",
   "nbconvert_exporter": "python",
   "pygments_lexer": "ipython3",
   "version": "3.10.14"
  }
 },
 "nbformat": 4,
 "nbformat_minor": 5
}
