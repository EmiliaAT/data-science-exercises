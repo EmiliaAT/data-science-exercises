{
 "cells": [
  {
   "cell_type": "markdown",
   "id": "9b362475-0f13-464a-a73d-dd5c032120eb",
   "metadata": {},
   "source": [
    "# Exercise \\[01\\]: Introduction to Jupyter Notebooks and GitHub\n",
    "---"
   ]
  },
  {
   "cell_type": "markdown",
   "id": "93f6ebc0-4a4f-456b-b394-e09569533b6e",
   "metadata": {},
   "source": [
    "## Explanation\n",
    "\n",
    "---\n",
    "\n",
    "This notebook is intended to demonstrate understanding of how **Jupyter Notebooks** and **Python** works."
   ]
  },
  {
   "cell_type": "code",
   "execution_count": 1,
   "id": "91e23485-d01c-4797-b043-c224e76ed450",
   "metadata": {},
   "outputs": [],
   "source": [
    "def factorial(n: int) -> int:\n",
    "    \"\"\"\n",
    "    Returns the factorial of any positive integer, otherwise returns 1.\n",
    "\n",
    "    # Params\n",
    "    - n : the number to calculate the factorial of.\n",
    "\n",
    "    # Returns\n",
    "    - the factorial of the argument `n`.\n",
    "    \"\"\"\n",
    "    # Base Case - n < 1\n",
    "    if n < 1:\n",
    "        return 1\n",
    "    # Recursive Case - n >= 1\n",
    "    return n * factorial(n - 1)"
   ]
  },
  {
   "cell_type": "markdown",
   "id": "36596c8d-a309-4783-982e-3809236a30a7",
   "metadata": {},
   "source": [
    "## Recursive Factorial\n",
    "\n",
    "---\n",
    "\n",
    "This code sample demonstrates how to implement the *factorial* algorithm using a recursive approach.\n",
    "\n",
    "- For values less than 1, the algorithm returns `1` immediately as a base case.\n",
    "- For values greater than 0, the algorithm returns the product of the current value of `n` along with the return value of `factorial(n - 1)`."
   ]
  },
  {
   "cell_type": "code",
   "execution_count": 2,
   "id": "db1ae564-c243-434a-97cd-b79384ca24c1",
   "metadata": {},
   "outputs": [
    {
     "name": "stdout",
     "output_type": "stream",
     "text": [
      "[1!] = 1\n",
      "[2!] = 2\n",
      "[3!] = 6\n",
      "[4!] = 24\n",
      "[5!] = 120\n",
      "[6!] = 720\n",
      "[7!] = 5040\n",
      "[8!] = 40320\n",
      "[9!] = 362880\n"
     ]
    }
   ],
   "source": [
    "for i in range(1, 10):\n",
    "    print(f'[{i}!] = {factorial(i)}')"
   ]
  },
  {
   "cell_type": "code",
   "execution_count": 5,
   "id": "f53f16f4-e819-4cda-b102-7e727b96e65b",
   "metadata": {},
   "outputs": [],
   "source": [
    "from math import prod\n",
    "\n",
    "def factorial_range(n: int) -> int:\n",
    "    \"\"\"\n",
    "    Returns the factorial of any positive integer, otherwise returns 1.\n",
    "\n",
    "    # Params\n",
    "    - n : the number to calculate the factorial of.\n",
    "\n",
    "    # Returns\n",
    "    - the factorial of the argument `n`.\n",
    "    \"\"\"\n",
    "    # Linear Fold\n",
    "    return prod(range(1, n + 1))"
   ]
  },
  {
   "cell_type": "markdown",
   "id": "44be5d26-6d04-4b34-9b66-f72dd898dbda",
   "metadata": {},
   "source": [
    "## Functional Factorial\n",
    "\n",
    "---\n",
    "\n",
    "This code sample demonstrates how to implement the *factorial* algorithm using a functional approach.\n",
    "\n",
    "The algorithm generates a list of numbers from `1` to `n` and returns the result of folding over the range with `math.prod`."
   ]
  },
  {
   "cell_type": "code",
   "execution_count": 4,
   "id": "e4dfcde5-4f7d-419a-ade4-b73e19aa8fec",
   "metadata": {},
   "outputs": [
    {
     "name": "stdout",
     "output_type": "stream",
     "text": [
      "[1!] = 1\n",
      "[2!] = 2\n",
      "[3!] = 6\n",
      "[4!] = 24\n",
      "[5!] = 120\n",
      "[6!] = 720\n",
      "[7!] = 5040\n",
      "[8!] = 40320\n",
      "[9!] = 362880\n"
     ]
    }
   ],
   "source": [
    "for i in range(1, 10):\n",
    "    print(f'[{i}!] = {factorial_range(i)}')"
   ]
  }
 ],
 "metadata": {
  "kernelspec": {
   "display_name": "anaconda-2024.02-py310",
   "language": "python",
   "name": "conda-env-anaconda-2024.02-py310-py"
  },
  "language_info": {
   "codemirror_mode": {
    "name": "ipython",
    "version": 3
   },
   "file_extension": ".py",
   "mimetype": "text/x-python",
   "name": "python",
   "nbconvert_exporter": "python",
   "pygments_lexer": "ipython3",
   "version": "3.10.14"
  }
 },
 "nbformat": 4,
 "nbformat_minor": 5
}
